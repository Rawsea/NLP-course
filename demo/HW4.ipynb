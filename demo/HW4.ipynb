{
 "cells": [
  {
   "cell_type": "markdown",
   "id": "ea9094b2",
   "metadata": {
    "id": "C_jdZ5vHJ4A9",
    "papermill": {
     "duration": 0.00597,
     "end_time": "2022-12-15T15:23:47.264969",
     "exception": false,
     "start_time": "2022-12-15T15:23:47.258999",
     "status": "completed"
    },
    "tags": []
   },
   "source": [
    "# Task description\n",
    "- Classify the speakers of given features.\n",
    "- Main goal: Learn how to use transformer.\n",
    "- Baselines:\n",
    "  - Easy: Run sample code and know how to use transformer.\n",
    "  - Medium: Know how to adjust parameters of transformer.\n",
    "  - Strong: Construct [conformer](https://arxiv.org/abs/2005.08100) which is a variety of transformer. \n",
    "  - Boss: Implement [Self-Attention Pooling](https://arxiv.org/pdf/2008.01077v1.pdf) & [Additive Margin Softmax](https://arxiv.org/pdf/1801.05599.pdf) to further boost the performance.\n",
    "\n",
    "- Other links\n",
    "  - Kaggle: [link](https://www.kaggle.com/t/ac77388c90204a4c8daebeddd40ff916)\n",
    "  - Slide: [link](https://docs.google.com/presentation/d/1HLAj7UUIjZOycDe7DaVLSwJfXVd3bXPOyzSb6Zk3hYU/edit?usp=sharing)\n",
    "  - Data: [link](https://github.com/MachineLearningHW/ML_HW4_Dataset)\n",
    "\n",
    "# Download dataset\n",
    "- Data is [here](https://github.com/MachineLearningHW/ML_HW4_Dataset)"
   ]
  },
  {
   "cell_type": "markdown",
   "id": "0caec289",
   "metadata": {
    "id": "LhLNWB-AK2Z5",
    "papermill": {
     "duration": 0.004393,
     "end_time": "2022-12-15T15:23:47.274018",
     "exception": false,
     "start_time": "2022-12-15T15:23:47.269625",
     "status": "completed"
    },
    "tags": []
   },
   "source": [
    "\"\"\"\n",
    "If the links below become inaccessible, please connect TAs.\n",
    "\"\"\"\n",
    "\n",
    "!wget https://github.com/MachineLearningHW/ML_HW4_Dataset/raw/0.0.1/Dataset.tar.gz.partaa\n",
    "!wget https://github.com/MachineLearningHW/ML_HW4_Dataset/raw/0.0.1/Dataset.tar.gz.partab\n",
    "!wget https://github.com/MachineLearningHW/ML_HW4_Dataset/raw/0.0.1/Dataset.tar.gz.partac\n",
    "!wget https://github.com/MachineLearningHW/ML_HW4_Dataset/raw/0.0.1/Dataset.tar.gz.partad\n",
    "\n",
    "!cat Dataset.tar.gz.parta* > Dataset.tar.gz\n",
    "\n",
    "!tar zxvf Dataset.tar.gz"
   ]
  },
  {
   "cell_type": "markdown",
   "id": "6d6b3940",
   "metadata": {
    "id": "ENWVAUDVJtVY",
    "papermill": {
     "duration": 0.004293,
     "end_time": "2022-12-15T15:23:47.282971",
     "exception": false,
     "start_time": "2022-12-15T15:23:47.278678",
     "status": "completed"
    },
    "tags": []
   },
   "source": [
    "## Fix Random Seed"
   ]
  },
  {
   "cell_type": "code",
   "execution_count": 1,
   "id": "a0a5dcf8",
   "metadata": {
    "execution": {
     "iopub.execute_input": "2022-12-15T15:23:47.294373Z",
     "iopub.status.busy": "2022-12-15T15:23:47.293550Z",
     "iopub.status.idle": "2022-12-15T15:23:49.065963Z",
     "shell.execute_reply": "2022-12-15T15:23:49.064969Z"
    },
    "id": "E6burzCXIyuA",
    "papermill": {
     "duration": 1.781623,
     "end_time": "2022-12-15T15:23:49.068922",
     "exception": false,
     "start_time": "2022-12-15T15:23:47.287299",
     "status": "completed"
    },
    "tags": []
   },
   "outputs": [],
   "source": [
    "import numpy as np\n",
    "import torch\n",
    "import random\n",
    "\n",
    "def set_seed(seed):\n",
    "    np.random.seed(seed)\n",
    "    random.seed(seed)\n",
    "    torch.manual_seed(seed)\n",
    "    if torch.cuda.is_available():\n",
    "        torch.cuda.manual_seed(seed)\n",
    "        torch.cuda.manual_seed_all(seed)\n",
    "    torch.backends.cudnn.benchmark = False\n",
    "    torch.backends.cudnn.deterministic = True\n",
    "\n",
    "set_seed(87)"
   ]
  },
  {
   "cell_type": "markdown",
   "id": "8691c42f",
   "metadata": {
    "id": "k7dVbxW2LASN",
    "papermill": {
     "duration": 0.006244,
     "end_time": "2022-12-15T15:23:49.082311",
     "exception": false,
     "start_time": "2022-12-15T15:23:49.076067",
     "status": "completed"
    },
    "tags": []
   },
   "source": [
    "# Data\n",
    "\n",
    "## Dataset\n",
    "- Original dataset is [Voxceleb2](https://www.robots.ox.ac.uk/~vgg/data/voxceleb/vox2.html).\n",
    "- The [license](https://creativecommons.org/licenses/by/4.0/) and [complete version](https://www.robots.ox.ac.uk/~vgg/data/voxceleb/files/license.txt) of Voxceleb2.\n",
    "- We randomly select 600 speakers from Voxceleb2.\n",
    "- Then preprocess the raw waveforms into mel-spectrograms.\n",
    "\n",
    "- Args:\n",
    "  - data_dir: The path to the data directory.\n",
    "  - metadata_path: The path to the metadata.\n",
    "  - segment_len: The length of audio segment for training. \n",
    "- The architecture of data directory \\\\\n",
    "  - data directory \\\\\n",
    "  |---- metadata.json \\\\\n",
    "  |---- testdata.json \\\\\n",
    "  |---- mapping.json \\\\\n",
    "  |---- uttr-{random string}.pt \\\\\n",
    "\n",
    "- The information in metadata\n",
    "  - \"n_mels\": The dimention of mel-spectrogram.\n",
    "  - \"speakers\": A dictionary. \n",
    "    - Key: speaker ids.\n",
    "    - value: \"feature_path\" and \"mel_len\"\n",
    "\n",
    "\n",
    "For efficiency, we segment the mel-spectrograms into segments in the traing step."
   ]
  },
  {
   "cell_type": "code",
   "execution_count": 2,
   "id": "ddf3f27d",
   "metadata": {
    "execution": {
     "iopub.execute_input": "2022-12-15T15:23:49.096664Z",
     "iopub.status.busy": "2022-12-15T15:23:49.096086Z",
     "iopub.status.idle": "2022-12-15T15:23:49.110742Z",
     "shell.execute_reply": "2022-12-15T15:23:49.109922Z"
    },
    "id": "KpuGxl4CI2pr",
    "papermill": {
     "duration": 0.024545,
     "end_time": "2022-12-15T15:23:49.113190",
     "exception": false,
     "start_time": "2022-12-15T15:23:49.088645",
     "status": "completed"
    },
    "tags": []
   },
   "outputs": [],
   "source": [
    "import os\n",
    "import json\n",
    "import torch\n",
    "import random\n",
    "from pathlib import Path\n",
    "from torch.utils.data import Dataset\n",
    "from torch.nn.utils.rnn import pad_sequence\n",
    " \n",
    "class myDataset(Dataset):\n",
    "\tdef __init__(self, data_dir, segment_len=128):\n",
    "\t\tself.data_dir = data_dir\n",
    "\t\tself.segment_len = segment_len\n",
    "\t\n",
    "\t\t# Load the mapping from speaker neme to their corresponding id. \n",
    "\t\tmapping_path = Path(data_dir) / \"mapping.json\"\n",
    "\t\tmapping = json.load(mapping_path.open())\n",
    "\t\tself.speaker2id = mapping[\"speaker2id\"]\n",
    "\t\n",
    "\t\t# Load metadata of training data.\n",
    "\t\tmetadata_path = Path(data_dir) / \"metadata.json\"\n",
    "\t\tmetadata = json.load(open(metadata_path))[\"speakers\"]\n",
    "\t\n",
    "\t\t# Get the total number of speaker.\n",
    "\t\tself.speaker_num = len(metadata.keys())\n",
    "\t\tself.data = []\n",
    "\t\tfor speaker in metadata.keys():\n",
    "\t\t\tfor utterances in metadata[speaker]:\n",
    "\t\t\t\tself.data.append([utterances[\"feature_path\"], self.speaker2id[speaker]])\n",
    " \n",
    "\tdef __len__(self):\n",
    "\t\t\treturn len(self.data)\n",
    " \n",
    "\tdef __getitem__(self, index):\n",
    "\t\tfeat_path, speaker = self.data[index]\n",
    "\t\t# Load preprocessed mel-spectrogram.\n",
    "\t\tmel = torch.load(os.path.join(self.data_dir, feat_path))\n",
    "        \n",
    "\t\t# Segmemt mel-spectrogram into \"segment_len\" frames.\n",
    "\t\tif len(mel) > self.segment_len:\n",
    "\t\t\t# Randomly get the starting point of the segment.\n",
    "\t\t\tstart = random.randint(0, len(mel) - self.segment_len)\n",
    "\t\t\t# Get a segment with \"segment_len\" frames.\n",
    "\t\t\tmel = torch.FloatTensor(mel[start:start+self.segment_len])\n",
    "\t\telse:\n",
    "\t\t\tmel = torch.FloatTensor(mel)\n",
    "\t\t# Turn the speaker id into long for computing loss later.\n",
    "\t\tspeaker = torch.FloatTensor([speaker]).long()\n",
    "\t\treturn mel, speaker\n",
    " \n",
    "\tdef get_speaker_number(self):\n",
    "\t\treturn self.speaker_num"
   ]
  },
  {
   "cell_type": "markdown",
   "id": "e32a3a1c",
   "metadata": {
    "id": "668hverTMlGN",
    "papermill": {
     "duration": 0.006237,
     "end_time": "2022-12-15T15:23:49.125762",
     "exception": false,
     "start_time": "2022-12-15T15:23:49.119525",
     "status": "completed"
    },
    "tags": []
   },
   "source": [
    "## Dataloader\n",
    "- Split dataset into training dataset(90%) and validation dataset(10%).\n",
    "- Create dataloader to iterate the data."
   ]
  },
  {
   "cell_type": "code",
   "execution_count": 3,
   "id": "49e4b4ea",
   "metadata": {
    "execution": {
     "iopub.execute_input": "2022-12-15T15:23:49.139987Z",
     "iopub.status.busy": "2022-12-15T15:23:49.139651Z",
     "iopub.status.idle": "2022-12-15T15:23:49.152141Z",
     "shell.execute_reply": "2022-12-15T15:23:49.151279Z"
    },
    "id": "B7c2gZYoJDRS",
    "papermill": {
     "duration": 0.022419,
     "end_time": "2022-12-15T15:23:49.154600",
     "exception": false,
     "start_time": "2022-12-15T15:23:49.132181",
     "status": "completed"
    },
    "tags": []
   },
   "outputs": [],
   "source": [
    "import torch\n",
    "from torch.utils.data import DataLoader, random_split\n",
    "from torch.nn.utils.rnn import pad_sequence\n",
    "\n",
    "\n",
    "def collate_batch(batch):\n",
    "\t# Process features within a batch.\n",
    "\t\"\"\"Collate a batch of data.\"\"\"\n",
    "\tmel, speaker = zip(*batch)\n",
    "\t# Because we train the model batch by batch, we need to pad the features in the same batch to make their lengths the same.\n",
    "\tmel = pad_sequence(mel, batch_first=True, padding_value=-20)    # pad log 10^(-20) which is very small value.\n",
    "\t# mel: (batch size, length, 40)\n",
    "\treturn mel, torch.FloatTensor(speaker).long()\n",
    "\n",
    "\n",
    "def get_dataloader(data_dir, batch_size, n_workers):\n",
    "\t\"\"\"Generate dataloader\"\"\"\n",
    "\tdataset = myDataset(data_dir)\n",
    "\tspeaker_num = dataset.get_speaker_number()\n",
    "\t# Split dataset into training dataset and validation dataset\n",
    "\ttrainlen = int(0.9 * len(dataset))\n",
    "\tlengths = [trainlen, len(dataset) - trainlen]\n",
    "\ttrainset, validset = random_split(dataset, lengths)\n",
    "\n",
    "\ttrain_loader = DataLoader(\n",
    "\t\ttrainset,\n",
    "\t\tbatch_size=batch_size,\n",
    "\t\tshuffle=True,\n",
    "\t\tdrop_last=True,\n",
    "\t\tnum_workers=n_workers,\n",
    "\t\tpin_memory=True,\n",
    "\t\tcollate_fn=collate_batch,\n",
    "\t)\n",
    "\tvalid_loader = DataLoader(\n",
    "\t\tvalidset,\n",
    "\t\tbatch_size=batch_size,\n",
    "\t\tnum_workers=n_workers,\n",
    "\t\tdrop_last=True,\n",
    "\t\tpin_memory=True,\n",
    "\t\tcollate_fn=collate_batch,\n",
    "\t)\n",
    "\n",
    "\treturn train_loader, valid_loader, speaker_num"
   ]
  },
  {
   "cell_type": "markdown",
   "id": "665cd4df",
   "metadata": {
    "id": "5FOSZYxrMqhc",
    "papermill": {
     "duration": 0.01334,
     "end_time": "2022-12-15T15:23:49.174659",
     "exception": false,
     "start_time": "2022-12-15T15:23:49.161319",
     "status": "completed"
    },
    "tags": []
   },
   "source": [
    "# Model\n",
    "- TransformerEncoderLayer:\n",
    "  - Base transformer encoder layer in [Attention Is All You Need](https://arxiv.org/abs/1706.03762)\n",
    "  - Parameters:\n",
    "    - d_model: the number of expected features of the input (required).\n",
    "\n",
    "    - nhead: the number of heads of the multiheadattention models (required).\n",
    "\n",
    "    - dim_feedforward: the dimension of the feedforward network model (default=2048).\n",
    "\n",
    "    - dropout: the dropout value (default=0.1).\n",
    "\n",
    "    - activation: the activation function of intermediate layer, relu or gelu (default=relu).\n",
    "\n",
    "- TransformerEncoder:\n",
    "  - TransformerEncoder is a stack of N transformer encoder layers\n",
    "  - Parameters:\n",
    "    - encoder_layer: an instance of the TransformerEncoderLayer() class (required).\n",
    "\n",
    "    - num_layers: the number of sub-encoder-layers in the encoder (required).\n",
    "\n",
    "    - norm: the layer normalization component (optional)."
   ]
  },
  {
   "cell_type": "code",
   "execution_count": 4,
   "id": "3cdd1128",
   "metadata": {
    "execution": {
     "iopub.execute_input": "2022-12-15T15:23:49.189494Z",
     "iopub.status.busy": "2022-12-15T15:23:49.189171Z",
     "iopub.status.idle": "2022-12-15T15:23:49.202330Z",
     "shell.execute_reply": "2022-12-15T15:23:49.201535Z"
    },
    "id": "iXZ5B0EKJGs8",
    "papermill": {
     "duration": 0.023069,
     "end_time": "2022-12-15T15:23:49.204713",
     "exception": false,
     "start_time": "2022-12-15T15:23:49.181644",
     "status": "completed"
    },
    "tags": []
   },
   "outputs": [],
   "source": [
    "import torch\n",
    "import torch.nn as nn\n",
    "import torch.nn.functional as F\n",
    "\n",
    "\n",
    "class Classifier(nn.Module):\n",
    "\tdef __init__(self, d_model=224, n_spks=600, dropout=0.2):\n",
    "\t\tsuper().__init__()\n",
    "\t\t# Project the dimension of features from that of input into d_model.\n",
    "\t\tself.prenet = nn.Linear(40, d_model)\n",
    "\t\t# TODO:\n",
    "\t\t#   Change Transformer to Conformer.\n",
    "\t\t#   https://arxiv.org/abs/2005.08100\n",
    "\t\tself.encoder_layer = nn.TransformerEncoderLayer(\n",
    "\t\t\td_model=d_model, dim_feedforward=d_model*2, nhead=2, dropout=dropout\n",
    "\t\t)\n",
    "\t\tself.encoder = nn.TransformerEncoder(self.encoder_layer, num_layers=3)\n",
    "\n",
    "\t\t# Project the the dimension of features from d_model into speaker nums.\n",
    "\t\tself.pred_layer = nn.Sequential(\n",
    "\t\t\tnn.BatchNorm1d(d_model),\n",
    "# \t\t\tnn.Linear(d_model, d_model),\n",
    "# \t\t\tnn.ReLU(),\n",
    "\t\t\tnn.Linear(d_model, n_spks),\n",
    "\t\t)\n",
    "\n",
    "\tdef forward(self, mels):\n",
    "\t\t\"\"\"\n",
    "\t\targs:\n",
    "\t\t\tmels: (batch size, length, 40)\n",
    "\t\treturn:\n",
    "\t\t\tout: (batch size, n_spks)\n",
    "\t\t\"\"\"\n",
    "\t\t# out: (batch size, length, d_model)\n",
    "\t\tout = self.prenet(mels)\n",
    "\t\t# out: (length, batch size, d_model)\n",
    "\t\tout = out.permute(1, 0, 2)\n",
    "\t\t# The encoder layer expect features in the shape of (length, batch size, d_model).\n",
    "\t\tout = self.encoder(out)\n",
    "\t\t# out: (batch size, length, d_model)\n",
    "\t\tout = out.transpose(0, 1)\n",
    "\t\t# mean pooling\n",
    "\t\tstats = out.mean(dim=1)\n",
    "\n",
    "\t\t# out: (batch, n_spks)\n",
    "\t\tout = self.pred_layer(stats)\n",
    "\t\treturn out"
   ]
  },
  {
   "cell_type": "markdown",
   "id": "e7c9908f",
   "metadata": {
    "id": "W7yX8JinM5Ly",
    "papermill": {
     "duration": 0.006507,
     "end_time": "2022-12-15T15:23:49.218058",
     "exception": false,
     "start_time": "2022-12-15T15:23:49.211551",
     "status": "completed"
    },
    "tags": []
   },
   "source": [
    "# Learning rate schedule\n",
    "- For transformer architecture, the design of learning rate schedule is different from that of CNN.\n",
    "- Previous works show that the warmup of learning rate is useful for training models with transformer architectures.\n",
    "- The warmup schedule\n",
    "  - Set learning rate to 0 in the beginning.\n",
    "  - The learning rate increases linearly from 0 to initial learning rate during warmup period."
   ]
  },
  {
   "cell_type": "code",
   "execution_count": 5,
   "id": "b5ef4ef0",
   "metadata": {
    "execution": {
     "iopub.execute_input": "2022-12-15T15:23:49.232611Z",
     "iopub.status.busy": "2022-12-15T15:23:49.232304Z",
     "iopub.status.idle": "2022-12-15T15:23:49.243739Z",
     "shell.execute_reply": "2022-12-15T15:23:49.242942Z"
    },
    "id": "ykt0N1nVJJi2",
    "jupyter": {
     "source_hidden": true
    },
    "papermill": {
     "duration": 0.021682,
     "end_time": "2022-12-15T15:23:49.246352",
     "exception": false,
     "start_time": "2022-12-15T15:23:49.224670",
     "status": "completed"
    },
    "tags": []
   },
   "outputs": [],
   "source": [
    "import math\n",
    "\n",
    "import torch\n",
    "from torch.optim import Optimizer\n",
    "from torch.optim.lr_scheduler import LambdaLR\n",
    "\n",
    "\n",
    "def get_cosine_schedule_with_warmup(\n",
    "\toptimizer: Optimizer,\n",
    "\tnum_warmup_steps: int,\n",
    "\tnum_training_steps: int,\n",
    "\tnum_cycles: float = 0.5,\n",
    "\tlast_epoch: int = -1,\n",
    "):\n",
    "\t\"\"\"\n",
    "\tCreate a schedule with a learning rate that decreases following the values of the cosine function between the\n",
    "\tinitial lr set in the optimizer to 0, after a warmup period during which it increases linearly between 0 and the\n",
    "\tinitial lr set in the optimizer.\n",
    "\n",
    "\tArgs:\n",
    "\t\toptimizer (:class:`~torch.optim.Optimizer`):\n",
    "\t\tThe optimizer for which to schedule the learning rate.\n",
    "\t\tnum_warmup_steps (:obj:`int`):\n",
    "\t\tThe number of steps for the warmup phase.\n",
    "\t\tnum_training_steps (:obj:`int`):\n",
    "\t\tThe total number of training steps.\n",
    "\t\tnum_cycles (:obj:`float`, `optional`, defaults to 0.5):\n",
    "\t\tThe number of waves in the cosine schedule (the defaults is to just decrease from the max value to 0\n",
    "\t\tfollowing a half-cosine).\n",
    "\t\tlast_epoch (:obj:`int`, `optional`, defaults to -1):\n",
    "\t\tThe index of the last epoch when resuming training.\n",
    "\n",
    "\tReturn:\n",
    "\t\t:obj:`torch.optim.lr_scheduler.LambdaLR` with the appropriate schedule.\n",
    "\t\"\"\"\n",
    "\tdef lr_lambda(current_step):\n",
    "\t\t# Warmup\n",
    "\t\tif current_step < num_warmup_steps:\n",
    "\t\t\treturn float(current_step) / float(max(1, num_warmup_steps))\n",
    "\t\t# decadence\n",
    "\t\tprogress = float(current_step - num_warmup_steps) / float(\n",
    "\t\t\tmax(1, num_training_steps - num_warmup_steps)\n",
    "\t\t)\n",
    "\t\treturn max(\n",
    "\t\t\t0.0, 0.5 * (1.0 + math.cos(math.pi * float(num_cycles) * 2.0 * progress))\n",
    "\t\t)\n",
    "\n",
    "\treturn LambdaLR(optimizer, lr_lambda, last_epoch)"
   ]
  },
  {
   "cell_type": "markdown",
   "id": "c679d04d",
   "metadata": {
    "id": "-LN2XkteM_uH",
    "papermill": {
     "duration": 0.006323,
     "end_time": "2022-12-15T15:23:49.259148",
     "exception": false,
     "start_time": "2022-12-15T15:23:49.252825",
     "status": "completed"
    },
    "tags": []
   },
   "source": [
    "# Model Function\n",
    "- Model forward function."
   ]
  },
  {
   "cell_type": "code",
   "execution_count": 6,
   "id": "aab25e10",
   "metadata": {
    "execution": {
     "iopub.execute_input": "2022-12-15T15:23:49.273555Z",
     "iopub.status.busy": "2022-12-15T15:23:49.273230Z",
     "iopub.status.idle": "2022-12-15T15:23:49.281415Z",
     "shell.execute_reply": "2022-12-15T15:23:49.280633Z"
    },
    "id": "N-rr8529JMz0",
    "papermill": {
     "duration": 0.017997,
     "end_time": "2022-12-15T15:23:49.283852",
     "exception": false,
     "start_time": "2022-12-15T15:23:49.265855",
     "status": "completed"
    },
    "tags": []
   },
   "outputs": [],
   "source": [
    "import torch\n",
    "\n",
    "\n",
    "def model_fn(batch, model, criterion, device):\n",
    "\t\"\"\"Forward a batch through the model.\"\"\"\n",
    "\n",
    "\tmels, labels = batch\n",
    "\tmels = mels.to(device)\n",
    "\tlabels = labels.to(device)\n",
    "\n",
    "\touts = model(mels)\n",
    "\n",
    "\tloss = criterion(outs, labels)\n",
    "\n",
    "\t# Get the speaker id with highest probability.\n",
    "\tpreds = outs.argmax(1)\n",
    "\t# Compute accuracy.\n",
    "\taccuracy = torch.mean((preds == labels).float())\n",
    "\n",
    "\treturn loss, accuracy"
   ]
  },
  {
   "cell_type": "markdown",
   "id": "7be26658",
   "metadata": {
    "id": "cwM_xyOtNCI2",
    "papermill": {
     "duration": 0.009988,
     "end_time": "2022-12-15T15:23:49.300468",
     "exception": false,
     "start_time": "2022-12-15T15:23:49.290480",
     "status": "completed"
    },
    "tags": []
   },
   "source": [
    "# Validate\n",
    "- Calculate accuracy of the validation set."
   ]
  },
  {
   "cell_type": "code",
   "execution_count": 7,
   "id": "026d0a22",
   "metadata": {
    "execution": {
     "iopub.execute_input": "2022-12-15T15:23:49.318871Z",
     "iopub.status.busy": "2022-12-15T15:23:49.318601Z",
     "iopub.status.idle": "2022-12-15T15:23:49.331731Z",
     "shell.execute_reply": "2022-12-15T15:23:49.330891Z"
    },
    "id": "YAiv6kpdJRTJ",
    "papermill": {
     "duration": 0.021961,
     "end_time": "2022-12-15T15:23:49.333663",
     "exception": false,
     "start_time": "2022-12-15T15:23:49.311702",
     "status": "completed"
    },
    "tags": []
   },
   "outputs": [],
   "source": [
    "from tqdm import tqdm\n",
    "import torch\n",
    "\n",
    "\n",
    "def valid(dataloader, model, criterion, device): \n",
    "\t\"\"\"Validate on validation set.\"\"\"\n",
    "\n",
    "\tmodel.eval()\n",
    "\trunning_loss = 0.0\n",
    "\trunning_accuracy = 0.0\n",
    "\tpbar = tqdm(total=len(dataloader.dataset), ncols=0, desc=\"Valid\", unit=\" uttr\")\n",
    "\n",
    "\tfor i, batch in enumerate(dataloader):\n",
    "\t\twith torch.no_grad():\n",
    "\t\t\tloss, accuracy = model_fn(batch, model, criterion, device)\n",
    "\t\t\trunning_loss += loss.item()\n",
    "\t\t\trunning_accuracy += accuracy.item()\n",
    "\n",
    "\t\tpbar.update(dataloader.batch_size)\n",
    "\t\tpbar.set_postfix(\n",
    "\t\t\tloss=f\"{running_loss / (i+1):.2f}\",\n",
    "\t\t\taccuracy=f\"{running_accuracy / (i+1):.2f}\",\n",
    "\t\t)\n",
    "\n",
    "\tpbar.close()\n",
    "\tmodel.train()\n",
    "\n",
    "\treturn running_accuracy / len(dataloader)"
   ]
  },
  {
   "cell_type": "markdown",
   "id": "23ff03f5",
   "metadata": {
    "id": "g6ne9G-eNEdG",
    "papermill": {
     "duration": 0.004218,
     "end_time": "2022-12-15T15:23:49.342172",
     "exception": false,
     "start_time": "2022-12-15T15:23:49.337954",
     "status": "completed"
    },
    "tags": []
   },
   "source": [
    "# Main function"
   ]
  },
  {
   "cell_type": "code",
   "execution_count": 8,
   "id": "064a01bf",
   "metadata": {
    "execution": {
     "iopub.execute_input": "2022-12-15T15:23:49.352375Z",
     "iopub.status.busy": "2022-12-15T15:23:49.352092Z",
     "iopub.status.idle": "2022-12-15T16:14:25.472168Z",
     "shell.execute_reply": "2022-12-15T16:14:25.470918Z"
    },
    "id": "Usv9s-CuJSG7",
    "papermill": {
     "duration": 3036.127765,
     "end_time": "2022-12-15T16:14:25.474347",
     "exception": false,
     "start_time": "2022-12-15T15:23:49.346582",
     "status": "completed"
    },
    "tags": []
   },
   "outputs": [
    {
     "name": "stdout",
     "output_type": "stream",
     "text": [
      "[Info]: Use cuda now!\n"
     ]
    },
    {
     "name": "stderr",
     "output_type": "stream",
     "text": [
      "/opt/conda/lib/python3.7/site-packages/torch/utils/data/dataloader.py:490: UserWarning: This DataLoader will create 8 worker processes in total. Our suggested max number of worker in current system is 2, which is smaller than what this DataLoader is going to create. Please be aware that excessive worker creation might get DataLoader running slow or even freeze, lower the worker number to avoid potential slowness/freeze if necessary.\n",
      "  cpuset_checked))\n"
     ]
    },
    {
     "name": "stdout",
     "output_type": "stream",
     "text": [
      "[Info]: Finish loading data!\n",
      "[Info]: Finish creating model!\n"
     ]
    },
    {
     "name": "stderr",
     "output_type": "stream",
     "text": [
      "Train: 100% 2000/2000 [01:10<00:00, 28.49 step/s, accuracy=0.16, loss=3.85, step=2000]\n",
      "Valid: 100% 5664/5667 [00:07<00:00, 783.84 uttr/s, accuracy=0.25, loss=3.56]\n",
      "Train: 100% 2000/2000 [00:54<00:00, 36.40 step/s, accuracy=0.47, loss=2.78, step=4000]\n",
      "Valid: 100% 5664/5667 [00:03<00:00, 1437.50 uttr/s, accuracy=0.41, loss=2.72]\n",
      "Train: 100% 2000/2000 [00:56<00:00, 35.45 step/s, accuracy=0.56, loss=2.09, step=6000]\n",
      "Valid: 100% 5664/5667 [00:04<00:00, 1316.58 uttr/s, accuracy=0.50, loss=2.22]\n",
      "Train: 100% 2000/2000 [00:55<00:00, 36.02 step/s, accuracy=0.62, loss=1.34, step=8000]\n",
      "Valid: 100% 5664/5667 [00:03<00:00, 1582.38 uttr/s, accuracy=0.54, loss=2.08]\n",
      "Train: 100% 2000/2000 [00:56<00:00, 35.24 step/s, accuracy=0.62, loss=1.42, step=1e+4]\n",
      "Valid: 100% 5664/5667 [00:03<00:00, 1519.39 uttr/s, accuracy=0.57, loss=1.95]\n",
      "Train:   0% 8/2000 [00:00<00:55, 36.09 step/s, accuracy=0.59, loss=1.62, step=1e+4]"
     ]
    },
    {
     "name": "stdout",
     "output_type": "stream",
     "text": [
      "Step 10000, best model saved. (accuracy=0.5689)\n"
     ]
    },
    {
     "name": "stderr",
     "output_type": "stream",
     "text": [
      "Train: 100% 2000/2000 [00:57<00:00, 34.85 step/s, accuracy=0.72, loss=1.33, step=12000]\n",
      "Valid: 100% 5664/5667 [00:03<00:00, 1592.90 uttr/s, accuracy=0.62, loss=1.65]\n",
      "Train: 100% 2000/2000 [00:56<00:00, 35.35 step/s, accuracy=0.69, loss=1.39, step=14000]\n",
      "Valid: 100% 5664/5667 [00:04<00:00, 1197.29 uttr/s, accuracy=0.64, loss=1.62]\n",
      "Train: 100% 2000/2000 [00:56<00:00, 35.12 step/s, accuracy=0.75, loss=1.00, step=16000]\n",
      "Valid: 100% 5664/5667 [00:03<00:00, 1602.51 uttr/s, accuracy=0.67, loss=1.48]\n",
      "Train: 100% 2000/2000 [00:57<00:00, 34.60 step/s, accuracy=0.69, loss=1.26, step=18000]\n",
      "Valid: 100% 5664/5667 [00:03<00:00, 1427.64 uttr/s, accuracy=0.67, loss=1.48]\n",
      "Train: 100% 2000/2000 [00:57<00:00, 34.80 step/s, accuracy=0.62, loss=1.69, step=2e+4]\n",
      "Valid: 100% 5664/5667 [00:03<00:00, 1529.75 uttr/s, accuracy=0.68, loss=1.46]\n",
      "Train:   0% 8/2000 [00:00<00:55, 35.79 step/s, accuracy=0.59, loss=1.15, step=2e+4]"
     ]
    },
    {
     "name": "stdout",
     "output_type": "stream",
     "text": [
      "Step 20000, best model saved. (accuracy=0.6813)\n"
     ]
    },
    {
     "name": "stderr",
     "output_type": "stream",
     "text": [
      "Train: 100% 2000/2000 [00:58<00:00, 34.47 step/s, accuracy=0.69, loss=0.99, step=22000]\n",
      "Valid: 100% 5664/5667 [00:03<00:00, 1478.40 uttr/s, accuracy=0.69, loss=1.37]\n",
      "Train: 100% 2000/2000 [00:57<00:00, 34.80 step/s, accuracy=0.81, loss=0.73, step=24000]\n",
      "Valid: 100% 5664/5667 [00:04<00:00, 1271.96 uttr/s, accuracy=0.72, loss=1.27]\n",
      "Train: 100% 2000/2000 [00:56<00:00, 35.55 step/s, accuracy=0.84, loss=0.57, step=26000]\n",
      "Valid: 100% 5664/5667 [00:05<00:00, 1098.29 uttr/s, accuracy=0.71, loss=1.29]\n",
      "Train: 100% 2000/2000 [00:55<00:00, 35.83 step/s, accuracy=0.81, loss=0.48, step=28000]\n",
      "Valid: 100% 5664/5667 [00:03<00:00, 1521.00 uttr/s, accuracy=0.74, loss=1.20]\n",
      "Train: 100% 2000/2000 [00:57<00:00, 34.51 step/s, accuracy=0.84, loss=0.59, step=3e+4]\n",
      "Valid: 100% 5664/5667 [00:03<00:00, 1637.11 uttr/s, accuracy=0.73, loss=1.24]\n",
      "Train:   0% 8/2000 [00:00<00:54, 36.75 step/s, accuracy=0.59, loss=1.54, step=3e+4]"
     ]
    },
    {
     "name": "stdout",
     "output_type": "stream",
     "text": [
      "Step 30000, best model saved. (accuracy=0.7376)\n"
     ]
    },
    {
     "name": "stderr",
     "output_type": "stream",
     "text": [
      "Train: 100% 2000/2000 [00:58<00:00, 34.41 step/s, accuracy=0.88, loss=0.46, step=32000]\n",
      "Valid: 100% 5664/5667 [00:03<00:00, 1512.68 uttr/s, accuracy=0.74, loss=1.21]\n",
      "Train: 100% 2000/2000 [00:54<00:00, 36.46 step/s, accuracy=0.78, loss=0.65, step=34000]\n",
      "Valid: 100% 5664/5667 [00:03<00:00, 1608.07 uttr/s, accuracy=0.76, loss=1.14]\n",
      "Train: 100% 2000/2000 [00:57<00:00, 34.84 step/s, accuracy=0.75, loss=0.69, step=36000]\n",
      "Valid: 100% 5664/5667 [00:03<00:00, 1515.98 uttr/s, accuracy=0.77, loss=1.07]\n",
      "Train: 100% 2000/2000 [00:57<00:00, 34.89 step/s, accuracy=0.84, loss=0.51, step=38000]\n",
      "Valid: 100% 5664/5667 [00:03<00:00, 1636.88 uttr/s, accuracy=0.77, loss=1.07]\n",
      "Train: 100% 2000/2000 [00:55<00:00, 35.86 step/s, accuracy=0.91, loss=0.57, step=4e+4]\n",
      "Valid: 100% 5664/5667 [00:03<00:00, 1582.90 uttr/s, accuracy=0.77, loss=1.08]\n",
      "Train:   0% 6/2000 [00:00<01:20, 24.92 step/s, accuracy=0.75, loss=1.06, step=4e+4]"
     ]
    },
    {
     "name": "stdout",
     "output_type": "stream",
     "text": [
      "Step 40000, best model saved. (accuracy=0.7701)\n"
     ]
    },
    {
     "name": "stderr",
     "output_type": "stream",
     "text": [
      "Train: 100% 2000/2000 [00:57<00:00, 34.50 step/s, accuracy=0.97, loss=0.30, step=42000]\n",
      "Valid: 100% 5664/5667 [00:03<00:00, 1576.67 uttr/s, accuracy=0.76, loss=1.10]\n",
      "Train: 100% 2000/2000 [00:58<00:00, 34.37 step/s, accuracy=0.84, loss=0.86, step=44000]\n",
      "Valid: 100% 5664/5667 [00:03<00:00, 1544.10 uttr/s, accuracy=0.79, loss=0.99]\n",
      "Train: 100% 2000/2000 [00:53<00:00, 37.61 step/s, accuracy=0.88, loss=0.61, step=46000]\n",
      "Valid: 100% 5664/5667 [00:05<00:00, 1049.50 uttr/s, accuracy=0.79, loss=0.99]\n",
      "Train: 100% 2000/2000 [00:54<00:00, 36.54 step/s, accuracy=0.78, loss=0.71, step=48000]\n",
      "Valid: 100% 5664/5667 [00:03<00:00, 1656.29 uttr/s, accuracy=0.79, loss=0.99]\n",
      "Train: 100% 2000/2000 [00:56<00:00, 35.56 step/s, accuracy=0.88, loss=0.37, step=5e+4]\n",
      "Valid: 100% 5664/5667 [00:03<00:00, 1553.88 uttr/s, accuracy=0.79, loss=0.96]\n",
      "Train:   0% 8/2000 [00:00<00:53, 36.97 step/s, accuracy=0.84, loss=0.78, step=5e+4]"
     ]
    },
    {
     "name": "stdout",
     "output_type": "stream",
     "text": [
      "Step 50000, best model saved. (accuracy=0.7947)\n"
     ]
    },
    {
     "name": "stderr",
     "output_type": "stream",
     "text": [
      "Train: 100% 2000/2000 [00:56<00:00, 35.59 step/s, accuracy=0.81, loss=0.60, step=52000]\n",
      "Valid: 100% 5664/5667 [00:03<00:00, 1633.88 uttr/s, accuracy=0.80, loss=0.98]\n",
      "Train: 100% 2000/2000 [00:56<00:00, 35.44 step/s, accuracy=0.91, loss=0.33, step=54000]\n",
      "Valid: 100% 5664/5667 [00:03<00:00, 1554.59 uttr/s, accuracy=0.80, loss=0.92]\n",
      "Train: 100% 2000/2000 [00:57<00:00, 34.84 step/s, accuracy=0.91, loss=0.35, step=56000]\n",
      "Valid: 100% 5664/5667 [00:03<00:00, 1647.01 uttr/s, accuracy=0.81, loss=0.89]\n",
      "Train: 100% 2000/2000 [00:59<00:00, 33.79 step/s, accuracy=0.91, loss=0.29, step=58000]\n",
      "Valid: 100% 5664/5667 [00:03<00:00, 1631.66 uttr/s, accuracy=0.82, loss=0.84]\n",
      "Train: 100% 2000/2000 [00:56<00:00, 35.25 step/s, accuracy=0.84, loss=0.36, step=6e+4]\n",
      "Valid: 100% 5664/5667 [00:03<00:00, 1620.73 uttr/s, accuracy=0.82, loss=0.85]\n",
      "Train:   0% 8/2000 [00:00<00:52, 37.80 step/s, accuracy=0.88, loss=0.24, step=6e+4]"
     ]
    },
    {
     "name": "stdout",
     "output_type": "stream",
     "text": [
      "Step 60000, best model saved. (accuracy=0.8219)\n"
     ]
    },
    {
     "name": "stderr",
     "output_type": "stream",
     "text": [
      "Train: 100% 2000/2000 [00:53<00:00, 37.16 step/s, accuracy=0.94, loss=0.32, step=62000]\n",
      "Valid: 100% 5664/5667 [00:05<00:00, 985.60 uttr/s, accuracy=0.83, loss=0.82] \n",
      "Train: 100% 2000/2000 [00:55<00:00, 36.06 step/s, accuracy=0.88, loss=0.44, step=64000]\n",
      "Valid: 100% 5664/5667 [00:03<00:00, 1601.74 uttr/s, accuracy=0.83, loss=0.81]\n",
      "Train: 100% 2000/2000 [00:56<00:00, 35.28 step/s, accuracy=0.91, loss=0.24, step=66000]\n",
      "Valid: 100% 5664/5667 [00:04<00:00, 1311.40 uttr/s, accuracy=0.84, loss=0.81]\n",
      "Train: 100% 2000/2000 [00:56<00:00, 35.37 step/s, accuracy=0.91, loss=0.40, step=68000]\n",
      "Valid: 100% 5664/5667 [00:03<00:00, 1609.51 uttr/s, accuracy=0.84, loss=0.78]\n",
      "Train: 100% 2000/2000 [00:56<00:00, 35.20 step/s, accuracy=0.84, loss=0.35, step=7e+4]\n",
      "Valid: 100% 5664/5667 [00:03<00:00, 1525.84 uttr/s, accuracy=0.85, loss=0.74]\n",
      "Train:   0% 8/2000 [00:00<00:53, 37.18 step/s, accuracy=0.91, loss=0.35, step=7e+4]"
     ]
    },
    {
     "name": "stdout",
     "output_type": "stream",
     "text": [
      "Step 70000, best model saved. (accuracy=0.8520)\n"
     ]
    },
    {
     "name": "stderr",
     "output_type": "stream",
     "text": [
      "Train: 100% 2000/2000 [00:57<00:00, 34.74 step/s, accuracy=1.00, loss=0.12, step=72000]\n",
      "Valid: 100% 5664/5667 [00:03<00:00, 1660.67 uttr/s, accuracy=0.85, loss=0.76]\n",
      "Train: 100% 2000/2000 [00:56<00:00, 35.11 step/s, accuracy=0.97, loss=0.20, step=74000]\n",
      "Valid: 100% 5664/5667 [00:03<00:00, 1451.55 uttr/s, accuracy=0.85, loss=0.73]\n",
      "Train: 100% 2000/2000 [00:53<00:00, 37.32 step/s, accuracy=0.91, loss=0.22, step=76000]\n",
      "Valid: 100% 5664/5667 [00:03<00:00, 1420.14 uttr/s, accuracy=0.85, loss=0.72]\n",
      "Train: 100% 2000/2000 [00:57<00:00, 35.07 step/s, accuracy=1.00, loss=0.08, step=78000]\n",
      "Valid: 100% 5664/5667 [00:03<00:00, 1568.43 uttr/s, accuracy=0.86, loss=0.70]\n",
      "Train: 100% 2000/2000 [00:58<00:00, 34.32 step/s, accuracy=0.94, loss=0.16, step=8e+4]\n",
      "Valid: 100% 5664/5667 [00:03<00:00, 1668.42 uttr/s, accuracy=0.87, loss=0.68]\n",
      "Train:   0% 7/2000 [00:00<01:02, 31.87 step/s, accuracy=1.00, loss=0.02, step=8e+4]"
     ]
    },
    {
     "name": "stdout",
     "output_type": "stream",
     "text": [
      "Step 80000, best model saved. (accuracy=0.8660)\n"
     ]
    },
    {
     "name": "stderr",
     "output_type": "stream",
     "text": [
      "Train: 100% 2000/2000 [00:58<00:00, 34.46 step/s, accuracy=0.91, loss=0.17, step=82000]\n",
      "Valid: 100% 5664/5667 [00:03<00:00, 1534.83 uttr/s, accuracy=0.86, loss=0.72]\n",
      "Train: 100% 2000/2000 [00:57<00:00, 34.86 step/s, accuracy=1.00, loss=0.06, step=84000]\n",
      "Valid: 100% 5664/5667 [00:03<00:00, 1699.03 uttr/s, accuracy=0.87, loss=0.68]\n",
      "Train: 100% 2000/2000 [00:57<00:00, 34.71 step/s, accuracy=0.94, loss=0.40, step=86000]\n",
      "Valid: 100% 5664/5667 [00:03<00:00, 1633.00 uttr/s, accuracy=0.86, loss=0.69]\n",
      "Train: 100% 2000/2000 [00:53<00:00, 37.49 step/s, accuracy=1.00, loss=0.06, step=88000]\n",
      "Valid: 100% 5664/5667 [00:04<00:00, 1386.44 uttr/s, accuracy=0.87, loss=0.69]\n",
      "Train: 100% 2000/2000 [00:57<00:00, 35.06 step/s, accuracy=1.00, loss=0.06, step=9e+4]\n",
      "Valid: 100% 5664/5667 [00:03<00:00, 1563.47 uttr/s, accuracy=0.87, loss=0.71]\n",
      "Train:   0% 7/2000 [00:00<01:28, 22.61 step/s, accuracy=0.94, loss=0.21, step=9e+4]"
     ]
    },
    {
     "name": "stdout",
     "output_type": "stream",
     "text": [
      "Step 90000, best model saved. (accuracy=0.8695)\n"
     ]
    },
    {
     "name": "stderr",
     "output_type": "stream",
     "text": [
      "Train: 100% 2000/2000 [00:52<00:00, 37.78 step/s, accuracy=0.97, loss=0.14, step=92000]\n",
      "Valid: 100% 5664/5667 [00:03<00:00, 1533.10 uttr/s, accuracy=0.87, loss=0.67]\n",
      "Train: 100% 2000/2000 [00:58<00:00, 34.04 step/s, accuracy=0.91, loss=0.19, step=94000]\n",
      "Valid: 100% 5664/5667 [00:03<00:00, 1618.84 uttr/s, accuracy=0.87, loss=0.69]\n",
      "Train: 100% 2000/2000 [00:53<00:00, 37.43 step/s, accuracy=0.97, loss=0.12, step=96000]\n",
      "Valid: 100% 5664/5667 [00:03<00:00, 1564.68 uttr/s, accuracy=0.87, loss=0.69]\n",
      "Train: 100% 2000/2000 [00:58<00:00, 34.15 step/s, accuracy=1.00, loss=0.05, step=98000]\n",
      "Valid: 100% 5664/5667 [00:03<00:00, 1680.07 uttr/s, accuracy=0.87, loss=0.66]\n",
      "Train: 100% 2000/2000 [00:53<00:00, 37.52 step/s, accuracy=0.97, loss=0.10, step=1e+5]\n",
      "Valid: 100% 5664/5667 [00:03<00:00, 1641.25 uttr/s, accuracy=0.87, loss=0.67]\n",
      "Train:   0% 0/2000 [00:00<?, ? step/s]\n"
     ]
    },
    {
     "name": "stdout",
     "output_type": "stream",
     "text": [
      "Step 100000, best model saved. (accuracy=0.8736)\n"
     ]
    }
   ],
   "source": [
    "from tqdm import tqdm\n",
    "\n",
    "import torch\n",
    "import torch.nn as nn\n",
    "from torch.optim import AdamW\n",
    "from torch.utils.data import DataLoader, random_split\n",
    "\n",
    "\n",
    "def parse_args():\n",
    "\t\"\"\"arguments\"\"\"\n",
    "\tconfig = {\n",
    "\t\t\"data_dir\": \"../input/ml2022spring-hw4/Dataset\",\n",
    "\t\t\"save_path\": \"model.ckpt\",\n",
    "\t\t\"batch_size\": 32,\n",
    "\t\t\"n_workers\": 8,\n",
    "\t\t\"valid_steps\": 2000,\n",
    "\t\t\"warmup_steps\": 1000,\n",
    "\t\t\"save_steps\": 10000,\n",
    "\t\t\"total_steps\": 100000,\n",
    "\t}\n",
    "\n",
    "\treturn config\n",
    "\n",
    "\n",
    "def main(\n",
    "\tdata_dir,\n",
    "\tsave_path,\n",
    "\tbatch_size,\n",
    "\tn_workers,\n",
    "\tvalid_steps,\n",
    "\twarmup_steps,\n",
    "\ttotal_steps,\n",
    "\tsave_steps,\n",
    "):\n",
    "\t\"\"\"Main function.\"\"\"\n",
    "\tdevice = torch.device(\"cuda\" if torch.cuda.is_available() else \"cpu\")\n",
    "\tprint(f\"[Info]: Use {device} now!\")\n",
    "\n",
    "\ttrain_loader, valid_loader, speaker_num = get_dataloader(data_dir, batch_size, n_workers)\n",
    "\ttrain_iterator = iter(train_loader)\n",
    "\tprint(f\"[Info]: Finish loading data!\",flush = True)\n",
    "\n",
    "\tmodel = Classifier(n_spks=speaker_num).to(device)\n",
    "\tcriterion = nn.CrossEntropyLoss()\n",
    "\toptimizer = AdamW(model.parameters(), lr=1e-3)\n",
    "\tscheduler = get_cosine_schedule_with_warmup(optimizer, warmup_steps, total_steps)\n",
    "\tprint(f\"[Info]: Finish creating model!\",flush = True)\n",
    "\n",
    "\tbest_accuracy = -1.0\n",
    "\tbest_state_dict = None\n",
    "\n",
    "\tpbar = tqdm(total=valid_steps, ncols=0, desc=\"Train\", unit=\" step\")\n",
    "\n",
    "\tfor step in range(total_steps):\n",
    "\t\t# Get data\n",
    "\t\ttry:\n",
    "\t\t\tbatch = next(train_iterator)\n",
    "\t\texcept StopIteration:\n",
    "\t\t\ttrain_iterator = iter(train_loader)\n",
    "\t\t\tbatch = next(train_iterator)\n",
    "\n",
    "\t\tloss, accuracy = model_fn(batch, model, criterion, device)\n",
    "\t\tbatch_loss = loss.item()\n",
    "\t\tbatch_accuracy = accuracy.item()\n",
    "\n",
    "\t\t# Updata model\n",
    "\t\tloss.backward()\n",
    "\t\toptimizer.step()\n",
    "\t\tscheduler.step()\n",
    "\t\toptimizer.zero_grad()\n",
    "\n",
    "\t\t# Log\n",
    "\t\tpbar.update()\n",
    "\t\tpbar.set_postfix(\n",
    "\t\t\tloss=f\"{batch_loss:.2f}\",\n",
    "\t\t\taccuracy=f\"{batch_accuracy:.2f}\",\n",
    "\t\t\tstep=step + 1,\n",
    "\t\t)\n",
    "\n",
    "\t\t# Do validation\n",
    "\t\tif (step + 1) % valid_steps == 0:\n",
    "\t\t\tpbar.close()\n",
    "\n",
    "\t\t\tvalid_accuracy = valid(valid_loader, model, criterion, device)\n",
    "\n",
    "\t\t\t# keep the best model\n",
    "\t\t\tif valid_accuracy > best_accuracy:\n",
    "\t\t\t\tbest_accuracy = valid_accuracy\n",
    "\t\t\t\tbest_state_dict = model.state_dict()\n",
    "\n",
    "\t\t\tpbar = tqdm(total=valid_steps, ncols=0, desc=\"Train\", unit=\" step\")\n",
    "\n",
    "\t\t# Save the best model so far.\n",
    "\t\tif (step + 1) % save_steps == 0 and best_state_dict is not None:\n",
    "\t\t\ttorch.save(best_state_dict, save_path)\n",
    "\t\t\tpbar.write(f\"Step {step + 1}, best model saved. (accuracy={best_accuracy:.4f})\")\n",
    "\n",
    "\tpbar.close()\n",
    "\n",
    "\n",
    "if __name__ == \"__main__\":\n",
    "\tmain(**parse_args())"
   ]
  },
  {
   "cell_type": "markdown",
   "id": "95bc27b4",
   "metadata": {
    "id": "NLatBYAhNNMx",
    "papermill": {
     "duration": 7.500003,
     "end_time": "2022-12-15T16:14:40.356443",
     "exception": false,
     "start_time": "2022-12-15T16:14:32.856440",
     "status": "completed"
    },
    "tags": []
   },
   "source": [
    "# Inference\n",
    "\n",
    "## Dataset of inference"
   ]
  },
  {
   "cell_type": "code",
   "execution_count": 9,
   "id": "ba33f575",
   "metadata": {
    "execution": {
     "iopub.execute_input": "2022-12-15T16:14:55.410959Z",
     "iopub.status.busy": "2022-12-15T16:14:55.410573Z",
     "iopub.status.idle": "2022-12-15T16:14:55.418664Z",
     "shell.execute_reply": "2022-12-15T16:14:55.417692Z"
    },
    "id": "efS4pCmAJXJH",
    "papermill": {
     "duration": 7.997459,
     "end_time": "2022-12-15T16:14:55.420708",
     "exception": false,
     "start_time": "2022-12-15T16:14:47.423249",
     "status": "completed"
    },
    "tags": []
   },
   "outputs": [],
   "source": [
    "import os\n",
    "import json\n",
    "import torch\n",
    "from pathlib import Path\n",
    "from torch.utils.data import Dataset\n",
    "\n",
    "\n",
    "class InferenceDataset(Dataset):\n",
    "\tdef __init__(self, data_dir):\n",
    "\t\ttestdata_path = Path(data_dir) / \"testdata.json\"\n",
    "\t\tmetadata = json.load(testdata_path.open())\n",
    "\t\tself.data_dir = data_dir\n",
    "\t\tself.data = metadata[\"utterances\"]\n",
    "\n",
    "\tdef __len__(self):\n",
    "\t\treturn len(self.data)\n",
    "\n",
    "\tdef __getitem__(self, index):\n",
    "\t\tutterance = self.data[index]\n",
    "\t\tfeat_path = utterance[\"feature_path\"]\n",
    "\t\tmel = torch.load(os.path.join(self.data_dir, feat_path))\n",
    "\n",
    "\t\treturn feat_path, mel\n",
    "\n",
    "\n",
    "def inference_collate_batch(batch):\n",
    "\t\"\"\"Collate a batch of data.\"\"\"\n",
    "\tfeat_paths, mels = zip(*batch)\n",
    "\n",
    "\treturn feat_paths, torch.stack(mels)"
   ]
  },
  {
   "cell_type": "markdown",
   "id": "ab68b37c",
   "metadata": {
    "id": "tl0WnYwxNK_S",
    "papermill": {
     "duration": 7.307721,
     "end_time": "2022-12-15T16:15:10.148533",
     "exception": false,
     "start_time": "2022-12-15T16:15:02.840812",
     "status": "completed"
    },
    "tags": []
   },
   "source": [
    "## Main funcrion of Inference"
   ]
  },
  {
   "cell_type": "code",
   "execution_count": 10,
   "id": "c90b26a9",
   "metadata": {
    "execution": {
     "iopub.execute_input": "2022-12-15T16:15:25.714475Z",
     "iopub.status.busy": "2022-12-15T16:15:25.714108Z",
     "iopub.status.idle": "2022-12-15T16:15:58.615689Z",
     "shell.execute_reply": "2022-12-15T16:15:58.614626Z"
    },
    "id": "i8SAbuXEJb2A",
    "papermill": {
     "duration": 40.925439,
     "end_time": "2022-12-15T16:15:58.617891",
     "exception": false,
     "start_time": "2022-12-15T16:15:17.692452",
     "status": "completed"
    },
    "tags": []
   },
   "outputs": [
    {
     "name": "stdout",
     "output_type": "stream",
     "text": [
      "[Info]: Use cuda now!\n",
      "[Info]: Finish loading data!\n",
      "[Info]: Finish creating model!\n"
     ]
    },
    {
     "data": {
      "application/vnd.jupyter.widget-view+json": {
       "model_id": "ab4aa1794d494be5a3005628301e450f",
       "version_major": 2,
       "version_minor": 0
      },
      "text/plain": [
       "  0%|          | 0/8000 [00:00<?, ?it/s]"
      ]
     },
     "metadata": {},
     "output_type": "display_data"
    }
   ],
   "source": [
    "import json\n",
    "import csv\n",
    "from pathlib import Path\n",
    "from tqdm.notebook import tqdm\n",
    "\n",
    "import torch\n",
    "from torch.utils.data import DataLoader\n",
    "\n",
    "def parse_args():\n",
    "\t\"\"\"arguments\"\"\"  \n",
    "\tconfig = {\n",
    "\t\t\"data_dir\": \"../input/ml2022spring-hw4/Dataset\",\n",
    "\t\t\"model_path\": \"model.ckpt\",\n",
    "\t\t\"output_path\": \"output.csv\",\n",
    "\t}\n",
    "\n",
    "\treturn config\n",
    "\n",
    "\n",
    "def main(\n",
    "\tdata_dir,\n",
    "\tmodel_path,\n",
    "\toutput_path,\n",
    "):\n",
    "\t\"\"\"Main function.\"\"\"\n",
    "\tdevice = torch.device(\"cuda\" if torch.cuda.is_available() else \"cpu\")\n",
    "\tprint(f\"[Info]: Use {device} now!\")\n",
    "\n",
    "\tmapping_path = Path(data_dir) / \"mapping.json\"\n",
    "\tmapping = json.load(mapping_path.open())\n",
    "\n",
    "\tdataset = InferenceDataset(data_dir)\n",
    "\tdataloader = DataLoader(\n",
    "\t\tdataset,\n",
    "\t\tbatch_size=1,\n",
    "\t\tshuffle=False,\n",
    "\t\tdrop_last=False,\n",
    "\t\tnum_workers=8,\n",
    "\t\tcollate_fn=inference_collate_batch,\n",
    "\t)\n",
    "\tprint(f\"[Info]: Finish loading data!\",flush = True)\n",
    "\n",
    "\tspeaker_num = len(mapping[\"id2speaker\"])\n",
    "\tmodel = Classifier(n_spks=speaker_num).to(device)\n",
    "\tmodel.load_state_dict(torch.load(model_path))\n",
    "\tmodel.eval()\n",
    "\tprint(f\"[Info]: Finish creating model!\",flush = True)\n",
    "\n",
    "\tresults = [[\"Id\", \"Category\"]]\n",
    "\tfor feat_paths, mels in tqdm(dataloader):\n",
    "\t\twith torch.no_grad():\n",
    "\t\t\tmels = mels.to(device)\n",
    "\t\t\touts = model(mels)\n",
    "\t\t\tpreds = outs.argmax(1).cpu().numpy()\n",
    "\t\t\tfor feat_path, pred in zip(feat_paths, preds):\n",
    "\t\t\t\tresults.append([feat_path, mapping[\"id2speaker\"][str(pred)]])\n",
    "\n",
    "\twith open(output_path, 'w', newline='') as csvfile:\n",
    "\t\twriter = csv.writer(csvfile)\n",
    "\t\twriter.writerows(results)\n",
    "\n",
    "\n",
    "if __name__ == \"__main__\":\n",
    "\tmain(**parse_args())"
   ]
  }
 ],
 "metadata": {
  "kernelspec": {
   "display_name": "Python 3",
   "language": "python",
   "name": "python3"
  },
  "language_info": {
   "codemirror_mode": {
    "name": "ipython",
    "version": 3
   },
   "file_extension": ".py",
   "mimetype": "text/x-python",
   "name": "python",
   "nbconvert_exporter": "python",
   "pygments_lexer": "ipython3",
   "version": "3.7.0 (v3.7.0:1bf9cc5093, Jun 26 2018, 23:26:24) \n[Clang 6.0 (clang-600.0.57)]"
  },
  "papermill": {
   "default_parameters": {},
   "duration": 3148.014921,
   "end_time": "2022-12-15T16:16:07.267075",
   "environment_variables": {},
   "exception": null,
   "input_path": "__notebook__.ipynb",
   "output_path": "__notebook__.ipynb",
   "parameters": {},
   "start_time": "2022-12-15T15:23:39.252154",
   "version": "2.3.4"
  },
  "vscode": {
   "interpreter": {
    "hash": "aee8b7b246df8f9039afb4144a1f6fd8d2ca17a180786b69acc140d282b71a49"
   }
  },
  "widgets": {
   "application/vnd.jupyter.widget-state+json": {
    "state": {
     "18de468dbdfe4ccfbdfd50a4d02d7dc5": {
      "model_module": "@jupyter-widgets/base",
      "model_module_version": "1.2.0",
      "model_name": "LayoutModel",
      "state": {
       "_model_module": "@jupyter-widgets/base",
       "_model_module_version": "1.2.0",
       "_model_name": "LayoutModel",
       "_view_count": null,
       "_view_module": "@jupyter-widgets/base",
       "_view_module_version": "1.2.0",
       "_view_name": "LayoutView",
       "align_content": null,
       "align_items": null,
       "align_self": null,
       "border": null,
       "bottom": null,
       "display": null,
       "flex": null,
       "flex_flow": null,
       "grid_area": null,
       "grid_auto_columns": null,
       "grid_auto_flow": null,
       "grid_auto_rows": null,
       "grid_column": null,
       "grid_gap": null,
       "grid_row": null,
       "grid_template_areas": null,
       "grid_template_columns": null,
       "grid_template_rows": null,
       "height": null,
       "justify_content": null,
       "justify_items": null,
       "left": null,
       "margin": null,
       "max_height": null,
       "max_width": null,
       "min_height": null,
       "min_width": null,
       "object_fit": null,
       "object_position": null,
       "order": null,
       "overflow": null,
       "overflow_x": null,
       "overflow_y": null,
       "padding": null,
       "right": null,
       "top": null,
       "visibility": null,
       "width": null
      }
     },
     "23870e43a6d946938512523061b52171": {
      "model_module": "@jupyter-widgets/controls",
      "model_module_version": "1.5.0",
      "model_name": "ProgressStyleModel",
      "state": {
       "_model_module": "@jupyter-widgets/controls",
       "_model_module_version": "1.5.0",
       "_model_name": "ProgressStyleModel",
       "_view_count": null,
       "_view_module": "@jupyter-widgets/base",
       "_view_module_version": "1.2.0",
       "_view_name": "StyleView",
       "bar_color": null,
       "description_width": ""
      }
     },
     "43a89a57f6964a5d9f22753fcf9d9bdc": {
      "model_module": "@jupyter-widgets/controls",
      "model_module_version": "1.5.0",
      "model_name": "FloatProgressModel",
      "state": {
       "_dom_classes": [],
       "_model_module": "@jupyter-widgets/controls",
       "_model_module_version": "1.5.0",
       "_model_name": "FloatProgressModel",
       "_view_count": null,
       "_view_module": "@jupyter-widgets/controls",
       "_view_module_version": "1.5.0",
       "_view_name": "ProgressView",
       "bar_style": "success",
       "description": "",
       "description_tooltip": null,
       "layout": "IPY_MODEL_b03243c1facc475e82823af03c159f6a",
       "max": 8000,
       "min": 0,
       "orientation": "horizontal",
       "style": "IPY_MODEL_23870e43a6d946938512523061b52171",
       "value": 8000
      }
     },
     "4626f59174914dd98c3cf0213d3567d3": {
      "model_module": "@jupyter-widgets/base",
      "model_module_version": "1.2.0",
      "model_name": "LayoutModel",
      "state": {
       "_model_module": "@jupyter-widgets/base",
       "_model_module_version": "1.2.0",
       "_model_name": "LayoutModel",
       "_view_count": null,
       "_view_module": "@jupyter-widgets/base",
       "_view_module_version": "1.2.0",
       "_view_name": "LayoutView",
       "align_content": null,
       "align_items": null,
       "align_self": null,
       "border": null,
       "bottom": null,
       "display": null,
       "flex": null,
       "flex_flow": null,
       "grid_area": null,
       "grid_auto_columns": null,
       "grid_auto_flow": null,
       "grid_auto_rows": null,
       "grid_column": null,
       "grid_gap": null,
       "grid_row": null,
       "grid_template_areas": null,
       "grid_template_columns": null,
       "grid_template_rows": null,
       "height": null,
       "justify_content": null,
       "justify_items": null,
       "left": null,
       "margin": null,
       "max_height": null,
       "max_width": null,
       "min_height": null,
       "min_width": null,
       "object_fit": null,
       "object_position": null,
       "order": null,
       "overflow": null,
       "overflow_x": null,
       "overflow_y": null,
       "padding": null,
       "right": null,
       "top": null,
       "visibility": null,
       "width": null
      }
     },
     "7cc118f125c04c53acaaa80f3c47ce84": {
      "model_module": "@jupyter-widgets/controls",
      "model_module_version": "1.5.0",
      "model_name": "HTMLModel",
      "state": {
       "_dom_classes": [],
       "_model_module": "@jupyter-widgets/controls",
       "_model_module_version": "1.5.0",
       "_model_name": "HTMLModel",
       "_view_count": null,
       "_view_module": "@jupyter-widgets/controls",
       "_view_module_version": "1.5.0",
       "_view_name": "HTMLView",
       "description": "",
       "description_tooltip": null,
       "layout": "IPY_MODEL_efcedf94101f4379835e7d087db0d2e3",
       "placeholder": "​",
       "style": "IPY_MODEL_ee90e636734e4d9f81fa06bee19d0657",
       "value": " 8000/8000 [00:32&lt;00:00, 257.06it/s]"
      }
     },
     "a62be517dca3499faf3dca246be0e336": {
      "model_module": "@jupyter-widgets/controls",
      "model_module_version": "1.5.0",
      "model_name": "DescriptionStyleModel",
      "state": {
       "_model_module": "@jupyter-widgets/controls",
       "_model_module_version": "1.5.0",
       "_model_name": "DescriptionStyleModel",
       "_view_count": null,
       "_view_module": "@jupyter-widgets/base",
       "_view_module_version": "1.2.0",
       "_view_name": "StyleView",
       "description_width": ""
      }
     },
     "ab4aa1794d494be5a3005628301e450f": {
      "model_module": "@jupyter-widgets/controls",
      "model_module_version": "1.5.0",
      "model_name": "HBoxModel",
      "state": {
       "_dom_classes": [],
       "_model_module": "@jupyter-widgets/controls",
       "_model_module_version": "1.5.0",
       "_model_name": "HBoxModel",
       "_view_count": null,
       "_view_module": "@jupyter-widgets/controls",
       "_view_module_version": "1.5.0",
       "_view_name": "HBoxView",
       "box_style": "",
       "children": [
        "IPY_MODEL_c18cce1aa27d4062b01b85b5dd2e26eb",
        "IPY_MODEL_43a89a57f6964a5d9f22753fcf9d9bdc",
        "IPY_MODEL_7cc118f125c04c53acaaa80f3c47ce84"
       ],
       "layout": "IPY_MODEL_4626f59174914dd98c3cf0213d3567d3"
      }
     },
     "b03243c1facc475e82823af03c159f6a": {
      "model_module": "@jupyter-widgets/base",
      "model_module_version": "1.2.0",
      "model_name": "LayoutModel",
      "state": {
       "_model_module": "@jupyter-widgets/base",
       "_model_module_version": "1.2.0",
       "_model_name": "LayoutModel",
       "_view_count": null,
       "_view_module": "@jupyter-widgets/base",
       "_view_module_version": "1.2.0",
       "_view_name": "LayoutView",
       "align_content": null,
       "align_items": null,
       "align_self": null,
       "border": null,
       "bottom": null,
       "display": null,
       "flex": null,
       "flex_flow": null,
       "grid_area": null,
       "grid_auto_columns": null,
       "grid_auto_flow": null,
       "grid_auto_rows": null,
       "grid_column": null,
       "grid_gap": null,
       "grid_row": null,
       "grid_template_areas": null,
       "grid_template_columns": null,
       "grid_template_rows": null,
       "height": null,
       "justify_content": null,
       "justify_items": null,
       "left": null,
       "margin": null,
       "max_height": null,
       "max_width": null,
       "min_height": null,
       "min_width": null,
       "object_fit": null,
       "object_position": null,
       "order": null,
       "overflow": null,
       "overflow_x": null,
       "overflow_y": null,
       "padding": null,
       "right": null,
       "top": null,
       "visibility": null,
       "width": null
      }
     },
     "c18cce1aa27d4062b01b85b5dd2e26eb": {
      "model_module": "@jupyter-widgets/controls",
      "model_module_version": "1.5.0",
      "model_name": "HTMLModel",
      "state": {
       "_dom_classes": [],
       "_model_module": "@jupyter-widgets/controls",
       "_model_module_version": "1.5.0",
       "_model_name": "HTMLModel",
       "_view_count": null,
       "_view_module": "@jupyter-widgets/controls",
       "_view_module_version": "1.5.0",
       "_view_name": "HTMLView",
       "description": "",
       "description_tooltip": null,
       "layout": "IPY_MODEL_18de468dbdfe4ccfbdfd50a4d02d7dc5",
       "placeholder": "​",
       "style": "IPY_MODEL_a62be517dca3499faf3dca246be0e336",
       "value": "100%"
      }
     },
     "ee90e636734e4d9f81fa06bee19d0657": {
      "model_module": "@jupyter-widgets/controls",
      "model_module_version": "1.5.0",
      "model_name": "DescriptionStyleModel",
      "state": {
       "_model_module": "@jupyter-widgets/controls",
       "_model_module_version": "1.5.0",
       "_model_name": "DescriptionStyleModel",
       "_view_count": null,
       "_view_module": "@jupyter-widgets/base",
       "_view_module_version": "1.2.0",
       "_view_name": "StyleView",
       "description_width": ""
      }
     },
     "efcedf94101f4379835e7d087db0d2e3": {
      "model_module": "@jupyter-widgets/base",
      "model_module_version": "1.2.0",
      "model_name": "LayoutModel",
      "state": {
       "_model_module": "@jupyter-widgets/base",
       "_model_module_version": "1.2.0",
       "_model_name": "LayoutModel",
       "_view_count": null,
       "_view_module": "@jupyter-widgets/base",
       "_view_module_version": "1.2.0",
       "_view_name": "LayoutView",
       "align_content": null,
       "align_items": null,
       "align_self": null,
       "border": null,
       "bottom": null,
       "display": null,
       "flex": null,
       "flex_flow": null,
       "grid_area": null,
       "grid_auto_columns": null,
       "grid_auto_flow": null,
       "grid_auto_rows": null,
       "grid_column": null,
       "grid_gap": null,
       "grid_row": null,
       "grid_template_areas": null,
       "grid_template_columns": null,
       "grid_template_rows": null,
       "height": null,
       "justify_content": null,
       "justify_items": null,
       "left": null,
       "margin": null,
       "max_height": null,
       "max_width": null,
       "min_height": null,
       "min_width": null,
       "object_fit": null,
       "object_position": null,
       "order": null,
       "overflow": null,
       "overflow_x": null,
       "overflow_y": null,
       "padding": null,
       "right": null,
       "top": null,
       "visibility": null,
       "width": null
      }
     }
    },
    "version_major": 2,
    "version_minor": 0
   }
  }
 },
 "nbformat": 4,
 "nbformat_minor": 5
}
